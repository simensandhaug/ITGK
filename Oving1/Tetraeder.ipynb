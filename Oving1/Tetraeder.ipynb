{
 "cells": [
  {
   "cell_type": "markdown",
   "metadata": {
    "deletable": false,
    "editable": false,
    "run_control": {
     "frozen": true
    },
    "pycharm": {
     "name": "#%% md\n"
    }
   },
   "source": [
    "<nav class=\"navbar navbar-default\">\n",
    "  <div class=\"container-fluid\">\n",
    "    <div class=\"navbar-header\">\n",
    "      <a class=\"navbar-brand\" href=\"_Oving1.ipynb\">Øving 1</a>\n",
    "    </div>\n",
    "    <ul class=\"nav navbar-nav\">\n",
    "        <li><a href=\"Intro%20til%20jupyter.ipynb\">Intro til Jupyter</a></li>\n",
    "      <li ><a href=\"Jeg%20elsker%20ITGK!.ipynb\">Jeg elsker ITGK!</a></li>\n",
    "    <li ><a href=\"Kalkulasjoner.ipynb\">Kalkulasjoner</a></li>\n",
    "    <li><a href=\"Input%20og%20variable.ipynb\">Input og variable</a></li>\n",
    "    <li><a href=\"Tallkonvertering.ipynb\">Tallkonvertering</a></li>\n",
    "    <li ><a href=\"Peppes%20Pizza.ipynb\">Peppes Pizza</a></li>\n",
    "    <li ><a href=\"Geometri.ipynb\">Geometri</a></li>\n",
    "    <li ><a href=\"Vitenskapelig%20notasjon.ipynb\">Vitenskapelig notasjon</a></li>\n",
    "    <li class=\"active\"><a href=\"Tetraeder.ipynb\">Tetraeder</a></li>\n",
    "    <li><a href=\"Bakekurs.ipynb\">Bakekurs</a></li>\n",
    "    <li ><a href=\"James%20Bond%20and%20Operation%20round().ipynb\">James Bond and Operation Round</a></li>\n",
    "    </ul>\n",
    "  </div>\n",
    "</nav>\n",
    "\n",
    "# Tetraeder \n",
    "\n",
    "**Læringsmål:**\n",
    "\n",
    "* Input/output\n",
    "* Formatere utskreven tekst\n",
    "* Bruke innebygde funksjoner\n",
    "\n",
    "**Starting Out with Python:**\n",
    "\n",
    "* Kap. 2.8\n",
    "\n",
    "![img](./../../Resources/Images/Tetrahedron.jpg)\n",
    "\n",
    "<br><br>I denne oppgaven skal du finne overflateareal og volum til regulære tetraedere (også kjent som trekantede pyramider). Et regulært tetraeder er et geometrisk objekt bestående av fire likesidede trekanter.\n",
    "\n",
    "* **Overflatearealet til et tetraeder er A=$\\sqrt{3}a^{2}$**  \n",
    "* **Volumet til et tetraeder er V=$\\frac{\\sqrt{2}a^{3}}{12}$  hvor a=$\\frac{3}{\\sqrt{6}}h$** "
   ]
  },
  {
   "cell_type": "markdown",
   "metadata": {
    "deletable": false,
    "editable": false,
    "run_control": {
     "frozen": true
    },
    "pycharm": {
     "name": "#%% md\n"
    }
   },
   "source": [
    "## a)"
   ]
  },
  {
   "cell_type": "markdown",
   "metadata": {
    "deletable": false,
    "editable": false,
    "run_control": {
     "frozen": true
    },
    "pycharm": {
     "name": "#%% md\n"
    }
   },
   "source": [
    "Lag et program som beregner og skriver ut på skjerm overflatearealet til et tetraeder. Test at programmet skriver ut 23.383 som resultat når høyden, h, er 3 (det gjør ikke noe om svaret får flere siffer).\n",
    "\n",
    "Eksempel på kjøring:\n",
    "  \n",
    "```python\n",
    "Et tetraeder med høyde 3 har areal 23.383\n",
    "```\n",
    "\n",
    "***Skriv koden din i blokka under.***"
   ]
  },
  {
   "cell_type": "code",
   "execution_count": null,
   "metadata": {
    "pycharm": {
     "name": "#%%\n"
    }
   },
   "outputs": [],
   "source": []
  },
  {
   "cell_type": "markdown",
   "metadata": {
    "deletable": false,
    "editable": false,
    "heading_collapsed": true,
    "run_control": {
     "frozen": true
    },
    "pycharm": {
     "name": "#%% md\n"
    }
   },
   "source": [
    "#### Hint"
   ]
  },
  {
   "cell_type": "markdown",
   "metadata": {
    "deletable": false,
    "editable": false,
    "hidden": true,
    "run_control": {
     "frozen": true
    },
    "pycharm": {
     "name": "#%% md\n"
    }
   },
   "source": [
    "Kvadratrot kan regnes ut enten ved å opphøye et tall i 1/2, f.eks. `x ** 0.5`, eller ved `import math` og `math.sqrt` for å regne ut røttene. Det kan være lurt å lagre verdiene i variabler."
   ]
  },
  {
   "cell_type": "markdown",
   "metadata": {
    "deletable": false,
    "editable": false,
    "run_control": {
     "frozen": true
    },
    "pycharm": {
     "name": "#%% md\n"
    }
   },
   "source": [
    "## b)"
   ]
  },
  {
   "cell_type": "markdown",
   "metadata": {
    "deletable": false,
    "editable": false,
    "run_control": {
     "frozen": true
    },
    "pycharm": {
     "name": "#%% md\n"
    }
   },
   "source": [
    "Utvid programmet slik at det også skriver ut volumet til et tetraeder. Test at programmet skriver 5.846 når høyden (h) er 3 (det gjør ikke noe om svaret får flere siffer). Du kan skrive i samme kodeblokk som i oppgave a.\n",
    "\n",
    "Eksempel på kjøring:\n",
    "\n",
    "  \n",
    "```python\n",
    "Et tetraeder med høyde 3 har volum 5.846\n",
    "```"
   ]
  },
  {
   "cell_type": "markdown",
   "metadata": {
    "deletable": false,
    "editable": false,
    "run_control": {
     "frozen": true
    },
    "pycharm": {
     "name": "#%% md\n"
    }
   },
   "source": [
    "## c)"
   ]
  },
  {
   "cell_type": "markdown",
   "metadata": {
    "deletable": false,
    "editable": false,
    "run_control": {
     "frozen": true
    },
    "pycharm": {
     "name": "#%% md\n"
    }
   },
   "source": [
    "Utvid programmet så brukeren blir bedt om å skrive inn verdien på høyden (h) fra tastaturet, og får ut volum og areal. Eksempel på kjøring vist i boksen under. Du kan skrive i samme kodeblokk som i oppgave a.\n",
    "\n",
    "Eksempel på kjøring:\n",
    "\n",
    "  \n",
    "```python\n",
    "Skriv inn en høyde: 3\n",
    "Et tetraheder med høyde 3.0 har volum 5.85 og areal 23.38\n",
    "```"
   ]
  }
 ],
 "metadata": {
  "kernelspec": {
   "display_name": "Python 3",
   "language": "python",
   "name": "python3"
  },
  "language_info": {
   "codemirror_mode": {
    "name": "ipython",
    "version": 3
   },
   "file_extension": ".py",
   "mimetype": "text/x-python",
   "name": "python",
   "nbconvert_exporter": "python",
   "pygments_lexer": "ipython3",
   "version": "3.7.1"
  },
  "toc": {
   "base_numbering": 1,
   "nav_menu": {},
   "number_sections": false,
   "sideBar": true,
   "skip_h1_title": false,
   "title_cell": "Table of Contents",
   "title_sidebar": "Contents",
   "toc_cell": false,
   "toc_position": {},
   "toc_section_display": true,
   "toc_window_display": false
  }
 },
 "nbformat": 4,
 "nbformat_minor": 2
}
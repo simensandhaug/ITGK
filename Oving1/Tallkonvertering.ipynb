{
 "cells": [
  {
   "cell_type": "markdown",
   "metadata": {
    "deletable": false,
    "editable": false,
    "run_control": {
     "frozen": true
    }
   },
   "source": [
    "<nav class=\"navbar navbar-default\">\n",
    "  <div class=\"container-fluid\">\n",
    "    <div class=\"navbar-header\">\n",
    "      <a class=\"navbar-brand\" href=\"_Oving1.ipynb\">Øving 1</a>\n",
    "    </div>\n",
    "    <ul class=\"nav navbar-nav\">\n",
    "        <li><a href=\"Intro%20til%20jupyter.ipynb\">Intro til Jupyter</a></li>\n",
    "      <li ><a href=\"Jeg%20elsker%20ITGK!.ipynb\">Jeg elsker ITGK!</a></li>\n",
    "    <li ><a href=\"Kalkulasjoner.ipynb\">Kalkulasjoner</a></li>\n",
    "    <li><a href=\"Input%20og%20variable.ipynb\">Input og variable</a></li>\n",
    "    <li class=\"active\"><a href=\"Tallkonvertering.ipynb\">Tallkonvertering</a></li>\n",
    "    <li><a href=\"Peppes%20Pizza.ipynb\">Peppes Pizza</a></li>\n",
    "    <li><a href=\"Geometri.ipynb\">Geometri</a></li>\n",
    "    <li><a href=\"Vitenskapelig%20notasjon.ipynb\">Vitenskapelig notasjon</a></li>\n",
    "    <li><a href=\"Tetraeder.ipynb\">Tetraeder</a></li>\n",
    "    <li><a href=\"Bakekurs.ipynb\">Bakekurs</a></li>\n",
    "    <li ><a href=\"James%20Bond%20and%20Operation%20round().ipynb\">James Bond and Operation Round</a></li>\n",
    "    </ul>\n",
    "  </div>\n",
    "</nav>\n",
    "\n",
    "# Tallkonvertering\n",
    "\n",
    "**Læringsmål:**\n",
    "\n",
    "* Konvertering mellom datatyper med standardfunksjoner som int() og float()\n",
    "\n",
    "* Forstå definisjonen av heltall og flyttall\n",
    "\n",
    "**Starting Out with Python:**\n",
    "\n",
    "* Kap. 2.6\n",
    "\n",
    "* Kap. 2.8"
   ]
  },
  {
   "cell_type": "markdown",
   "metadata": {
    "deletable": false,
    "editable": false,
    "heading_collapsed": true,
    "run_control": {
     "frozen": true
    }
   },
   "source": [
    "## Tutorial del 1: Konvertering mellom datatyper"
   ]
  },
  {
   "cell_type": "markdown",
   "metadata": {
    "deletable": false,
    "editable": false,
    "hidden": true,
    "run_control": {
     "frozen": true
    }
   },
   "source": [
    "Vi kan ha ulike typer data, som tekststrenger (f.eks. `\"Python\"`), heltall (f.eks. `42`), flyttall (f.eks. `9.80`) og sannhetsverdier (`True`, `False`). Ofte kommer vi i situasjoner hvor vi har data av en viss type, men vi trenger samme data bare med en annen type. Da må vi konvertere dataene. Noen vanlige konverteringsfunksjoner:\n",
    "\n",
    "**`int()`** - konverterer til heltall.\n",
    "- `int('423')` gir 423 (dvs. tekststrengen blir konvertert til et tall). Virker kun hvis tekststrengen faktisk inneholder et heltall.\n",
    "- `int(5.69)` gir 5 (dvs. for flyttall blir desimaldelen fjernet)\n",
    "\n",
    "**`float()`** - konverterer til flyttall\n",
    "- `float('5.69')` gir 5.69 (tekststreng konvertert til tall)\n",
    "- `float('5')` gir 5.0, dvs. float() virker på tekststrenger enten de inneholder flyttall eller heltall (men ikke på strenger som er noe annet enn tall)\n",
    "- `float(5)` gir 5.0\n",
    "\n",
    "**`str()`** - konverterer til tekststreng\n",
    "- `str(42)` gir '42'\n",
    "- `str(5.69)` gir '5.69'\n",
    "Koden under feiler fordi vi har glemt å konvertere. Kjør den og se hva som skjer."
   ]
  },
  {
   "cell_type": "code",
   "execution_count": null,
   "metadata": {
    "hidden": true
   },
   "outputs": [],
   "source": [
    "alder = input(\"Hvor gammel er du?\")\n",
    "alder_mor = input(\"Hvor gammel er din mor?\")\n",
    "sum_alder = alder + alder_mor\n",
    "print(\"Gratulerer, til sammen er dere\", sum_alder, \"år!\")\n",
    "svar = input(\"Hva syns dere om å være \", sum_alder, \"? \")"
   ]
  },
  {
   "cell_type": "markdown",
   "metadata": {
    "deletable": false,
    "editable": false,
    "hidden": true,
    "run_control": {
     "frozen": true
    }
   },
   "source": [
    "Et eksempel på kjøring kan være som følger:\n",
    "    \n",
    "  \n",
    "```python\n",
    "Hvor gammel er du? 13\n",
    "Hvor gammel er din mor? 37\n",
    "Gratulerer, til sammen er dere 1337 år!\n",
    "Traceback (most recent call last):\n",
    "  File \"/Users/guttorm/Documents/tut2.py\", line 5, in <module>\n",
    "    svar = input(\"Hva syns dere om å være \", sum_alder, \"? \")\n",
    "TypeError: input expected at most 1 arguments, got 3\n",
    ">>>\n",
    "```\n",
    "\n",
    "Den første feilen viser seg i linjen \"Gratulerer...\" Summen skulle ha blitt 50 år. Men vi har de to alderne fortsatt bare lagret som tekststrenger. Da betyr `+` å hekte sammen strengene, ikke å gjøre noen addisjon. Altså får vi `'13' + '37'` som blir `'1337'` heller enn `13 + 37` som blir `50`. Her måtte vi ha konvertert fra tekst til tall før vi gjorde addisjonen.\n",
    "\n",
    "Den andre feilen oppstår i input-setninga. I `print()` er det lov å liste opp mange argumenter, både tekst og tall, med komma mellom. I en `input()` er det bare lov å ha ett argument, som må være en tekststreng (ledeteksten). Som det sies i feilmeldinga: \"input expected at most 1 arguments, got 3\". For å klare oss med bare ett argument - men samtidig få stilt det spørsmålet vi ønsker (\"Hva syns dere om å være 50?\" hvis summen var 50) - må vi plusse sammen delene til én tekststreng heller enn å ha delene skilt med komma. `input(\"Hva syns dere om å være\" + sum_alder + \"? \")` vil imidlertid ikke funke hvis sum_alder er et tall, for å det går ikke å plusse sammen tekst og tall. To tekster kan derimot godt plusses sammen (som vi nettopp så med `'1337'`). Hvis vi konverterer `sum_alder` til tekst, vil det funke. Fikset kode vist under:"
   ]
  },
  {
   "cell_type": "code",
   "execution_count": null,
   "metadata": {
    "hidden": true
   },
   "outputs": [],
   "source": [
    "alder = int(input(\"Hvor gammel er du?\"))\n",
    "alder_mor = int(input(\"Hvor gammel er din mor?\"))\n",
    "sum_alder = alder + alder_mor\n",
    "print(\"Gratulerer, til sammen er dere\", sum_alder, \"år!\")\n",
    "svar = input(\"Hva syns dere om å være \" + str(sum_alder) + \"? \")"
   ]
  },
  {
   "cell_type": "markdown",
   "metadata": {
    "deletable": false,
    "editable": false,
    "hidden": true,
    "run_control": {
     "frozen": true
    }
   },
   "source": [
    "Altså: bruker `int()` i linje 1 og 2, dette gjør at vi får heltall i variablene `alder` og `alder_mor` så vi blir i stand til å regne med dem. Bruker deretter `str()` i linje 5 så denne opplysningen kan settes sammen med annen tekst og brukes i ledeteksten til en ny `input()`. Dette eksemplet viser dermed både et tilfelle hvor vi har tekst men trenger tall, og ett hvor vi har et tall men trenger tekst. Hvis det er aktuelt at brukeren skriver inn desimaltall på alder (f.eks. `13.5`) vil imidlertid koden over ikke funke. Da måtte vi ha brukt funksjonen `float()` der vi nå har brukt `int()`."
   ]
  },
  {
   "cell_type": "markdown",
   "metadata": {
    "deletable": false,
    "editable": false,
    "run_control": {
     "frozen": true
    }
   },
   "source": [
    "## a)"
   ]
  },
  {
   "cell_type": "markdown",
   "metadata": {
    "deletable": false,
    "editable": false,
    "run_control": {
     "frozen": true
    }
   },
   "source": [
    "Be brukeren om å skrive inn 3 flyttall. Konverter først strengene til flyttall med `float()`, bruk så `int()` til å konvertere dem til heltall. Be også brukeren om å skrive inn et heltall og bruk `float()` til å konvertere tallet til et desimaltall."
   ]
  },
  {
   "cell_type": "markdown",
   "metadata": {
    "deletable": false,
    "editable": false,
    "run_control": {
     "frozen": true
    }
   },
   "source": [
    "Eksempel på utskrift fra programmet hvis du får til det til å funke:\n",
    "\n",
    "\n",
    "```python\n",
    "Skriv inn et flyttall: 4.232443\n",
    "Skriv inn enda et flyttall: 3.24324\n",
    "Skriv inn et siste flyttall: 1.22342454\n",
    "Konvertert til heltall blir det: 4 3 1\n",
    "Skriv inn et heltall: 13\n",
    "Konvertert til flyttall blir det: 13.0\n",
    "```\n",
    "\n",
    "***Skriv koden din i blokka under:***"
   ]
  },
  {
   "cell_type": "code",
   "execution_count": null,
   "metadata": {
    "ExecuteTime": {
     "end_time": "2019-07-01T11:24:13.550825Z",
     "start_time": "2019-07-01T11:24:13.542723Z"
    }
   },
   "outputs": [],
   "source": []
  },
  {
   "cell_type": "markdown",
   "metadata": {
    "deletable": false,
    "editable": false,
    "heading_collapsed": true,
    "run_control": {
     "frozen": true
    }
   },
   "source": [
    "#### Hint"
   ]
  },
  {
   "cell_type": "markdown",
   "metadata": {
    "deletable": false,
    "editable": false,
    "hidden": true,
    "run_control": {
     "frozen": true
    }
   },
   "source": [
    "Hver gang du skal be brukeren om noe benyttes `input()`. Husk å ha det i en `int()` dersom det er et heltall du ber om og `float()` dersom det er et flyttall. En tekststreng som inneholder et flyttall, f.eks. `\"4.325\"`, kan ikke konverteres direkte til heltall. Dvs., `int(\"4.325\")` vil gi feilmelding. Hvis du får en slik streng og egentlig ønsker int, må du først konvertere fra streng til float, deretter fra float til int."
   ]
  },
  {
   "cell_type": "markdown",
   "metadata": {
    "deletable": false,
    "editable": false,
    "run_control": {
     "frozen": true
    }
   },
   "source": [
    "## b)"
   ]
  },
  {
   "cell_type": "markdown",
   "metadata": {
    "deletable": false,
    "editable": false,
    "run_control": {
     "frozen": true
    }
   },
   "source": [
    "Skriv et program som ber brukeren oppgi navn og alder, samt hvor gammel vedkommende var da han/hun begynte å programmere.  Et eksempel på kjøring er vist nedenfor, hvor *Martin, 21*, *19* og *Ja* bakerst i linjene 1, 2, 3 og 5 skrives av brukeren mens resten skrives av maskinen. Lag programmet slik at det tilpasser seg dataene som skrives inn. (Særlig for denne deloppgaven lønner det seg å se på tutorial lenger oppe hvis du ikke får den til)\n",
    "\n",
    "Eksempel på kjøring:\n",
    "  \n",
    "```\n",
    "Skriv ditt navn: Martin\n",
    "Hei, Martin, hvor gammel er du? 21\n",
    "Hvor gammel var du da du begynte å programmere? 19\n",
    "Da har du programmert i 2 år.\n",
    "Syns du de 2 årene har vært givende? Ja\n",
    "Takk for svar, Martin!\n",
    "```\n",
    "\n",
    "***Skriv koden din i blokka under.***"
   ]
  },
  {
   "cell_type": "code",
   "execution_count": null,
   "metadata": {},
   "outputs": [],
   "source": []
  },
  {
   "cell_type": "markdown",
   "metadata": {
    "deletable": false,
    "editable": false,
    "heading_collapsed": true,
    "run_control": {
     "frozen": true
    }
   },
   "source": [
    "## Tutorial del 2: int() vs. round()"
   ]
  },
  {
   "cell_type": "markdown",
   "metadata": {
    "deletable": false,
    "editable": false,
    "hidden": true,
    "run_control": {
     "frozen": true
    }
   },
   "source": [
    "Ofte har man flyttall, men trenger heltall, f.eks. hvis man skal bruke innebygde Python-funksjoner som krever heltall som argument, eller skal bruke tallet som indeks til en streng eller liste (som vi vil se senere i pensum). Flyttall kan konverteres til heltall med funksjoner som `int()` eller `round()`. Kodeblokka under viser litt forskjell på hvordan disse virker."
   ]
  },
  {
   "cell_type": "code",
   "execution_count": null,
   "metadata": {
    "hidden": true
   },
   "outputs": [],
   "source": [
    "print(\"int() bare kutter desimalene, uansett hvor stor eller liten desimaldelen er:\")\n",
    "print(\"int(2.25) er\", int(2.25))\n",
    "print(\"int(2.5) er\", int(2.5))\n",
    "print(\"int(2.99) er\", int(2.99))\n",
    "print(\"round() runder av til nærmeste heltall, f.eks.\")\n",
    "print(\"round(2.25) er\", round(2.25))\n",
    "print(\"round(2.51) er\", round(2.51))\n",
    "print(\"Hva hvis tallet er midt mellom to heltall?\")\n",
    "print(\"round(2.5) er\", round(2.5))\n",
    "print(\"round(3.5) er\", round(3.5))\n",
    "print(\"round() bruker en IEEE standard som velger partallet for midt-imellom-situasjoner.\")\n",
    "print(\"Mens int() alltid gir heltall kan round() brukes for antall desimaler:\")\n",
    "print(\"round(2.5488, 1) blir\", round(2.5488, 1))\n",
    "print(\"round(2.5488, 3) blir\", round(2.5488, 3))\n",
    "print(\"Med negativt antall desimaler kan vi få round() til å runde større enn heltall:\")\n",
    "print(\"round(12345.67, -3) blir\", round(12345.67, -3))"
   ]
  },
  {
   "cell_type": "markdown",
   "metadata": {
    "deletable": false,
    "editable": false,
    "hidden": true,
    "run_control": {
     "frozen": true
    }
   },
   "source": [
    "Som du ser i eksemplet, blir 2.5 rundet av til 2 mens 3.5 blir rundet til 4. Dette kan virke litt uvant, i dagliglivet er man mest kjent med såkalt \"kjøpmannsavrunding\", hvor det alltid rundes opp hvis man er midt mellom (dvs., 2.5 skulle i så fall ha blitt rundet til 3). Konsekvent runding oppover når man er midt mellom har imidlertid en uheldig side, nemlig at man pådrar seg en systematisk feil hvis man har mange data som avrundes. Tenk f.eks. temperaturmålinger for lange perioder, hvor man deretter skal regne ut et snitt for hele perioden. Hvis alle temperaturer som er midt når det gjelder siste brukte siffer, rundes opp, vil snittet for perioden alltid bli litt for høyt. Hvis man i stedet går i partallsretning i alle slike midt mellom situasjoner, vil man runde opp cirka halvparten av gangene og ned cirka halvparten av gangene og dermed unngå slike systematiske feil. Men for kjøpmannen er systematisk runding oppover selvsagt bedre med tanke på å få inn mest mulig penger."
   ]
  },
  {
   "cell_type": "markdown",
   "metadata": {
    "deletable": false,
    "editable": false,
    "run_control": {
     "frozen": true
    }
   },
   "source": [
    "## c)"
   ]
  },
  {
   "cell_type": "markdown",
   "metadata": {
    "deletable": false,
    "editable": false,
    "run_control": {
     "frozen": true
    }
   },
   "source": [
    "Be brukeren om skrive inn et flyttall med minst 5 siffer både før og etter punktum. Ta vare på flyttallet i en variabel, konverter det deretter på diverse måter som antydet i eksempelutskriften under. Til slutt skal heltallet du fikk fra `int()` konverteres tilbake til et flyttall.\n",
    "\n",
    "Kjøring av kode:\n",
    "  \n",
    "```python\n",
    "Vennligst gi inn et flyttall med minst 5 siffer både før og etter .\n",
    "Hva er tallet ditt? 123456.724353\n",
    "Konvertert til heltall med int(): 123456\n",
    "Avrundet til nærmeste heltall: 123457\n",
    "Avrundet til to desimaler: 123456.72\n",
    "Avrundet til fire desimaler: 123456.7244\n",
    "Avrundet til nærmeste tusen: 123000\n",
    "Heltall fra int() konvertert tilbake til flyttall: 123456.0\n",
    "```\n",
    "\n",
    "***Skriv koden din i blokka under.***"
   ]
  },
  {
   "cell_type": "code",
   "execution_count": null,
   "metadata": {},
   "outputs": [],
   "source": []
  },
  {
   "cell_type": "markdown",
   "metadata": {
    "deletable": false,
    "editable": false,
    "run_control": {
     "frozen": true
    }
   },
   "source": [
    "## d)"
   ]
  },
  {
   "cell_type": "markdown",
   "metadata": {
    "deletable": false,
    "editable": false,
    "run_control": {
     "frozen": true
    }
   },
   "source": [
    "Ta først inn et flyttall fra brukeren og spør deretter brukeren om hvor mange desimaler i det avrundede tallet som er ønskelig, og bruk `round()` med dette tallet.\n",
    "\n",
    "Eksempel på kjøring:\n",
    " \n",
    "```python\n",
    "Skriv et flyttall: 3.14159263\n",
    "Hvor mange desimaler er ønskelig? 2\n",
    "Tallet du skrev er  3.14159263 og med  2  desimaler blir det til  3.14\n",
    "```\n",
    "***Skriv koden din i blokka under.***"
   ]
  },
  {
   "cell_type": "code",
   "execution_count": null,
   "metadata": {},
   "outputs": [],
   "source": []
  }
 ],
 "metadata": {
  "kernelspec": {
   "display_name": "Python 3",
   "language": "python",
   "name": "python3"
  },
  "language_info": {
   "codemirror_mode": {
    "name": "ipython",
    "version": 3
   },
   "file_extension": ".py",
   "mimetype": "text/x-python",
   "name": "python",
   "nbconvert_exporter": "python",
   "pygments_lexer": "ipython3",
   "version": "3.7.4"
  },
  "toc": {
   "base_numbering": 1,
   "nav_menu": {},
   "number_sections": false,
   "sideBar": true,
   "skip_h1_title": false,
   "title_cell": "Table of Contents",
   "title_sidebar": "Contents",
   "toc_cell": false,
   "toc_position": {},
   "toc_section_display": true,
   "toc_window_display": false
  }
 },
 "nbformat": 4,
 "nbformat_minor": 2
}

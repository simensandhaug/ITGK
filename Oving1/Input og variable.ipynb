{
 "cells": [
  {
   "cell_type": "markdown",
   "metadata": {
    "deletable": false,
    "editable": false,
    "run_control": {
     "frozen": true
    }
   },
   "source": [
    "<nav class=\"navbar navbar-default\">\n",
    "  <div class=\"container-fluid\">\n",
    "    <div class=\"navbar-header\">\n",
    "      <a class=\"navbar-brand\" href=\"_Oving1.ipynb\">Øving 1</a>\n",
    "    </div>\n",
    "    <ul class=\"nav navbar-nav\">\n",
    "        <li><a href=\"Intro%20til%20jupyter.ipynb\">Intro til Jupyter</a></li>\n",
    "      <li ><a href=\"Jeg%20elsker%20ITGK!.ipynb\">Jeg elsker ITGK!</a></li>\n",
    "    <li ><a href=\"Kalkulasjoner.ipynb\">Kalkulasjoner</a></li>\n",
    "    <li class=\"active\"><a href=\"Input%20og%20variable.ipynb\">Input og variable</a></li>\n",
    "    <li><a href=\"Tallkonvertering.ipynb\">Tallkonvertering</a></li>\n",
    "    <li><a href=\"Peppes%20Pizza.ipynb\">Peppes Pizza</a></li>\n",
    "    <li><a href=\"Geometri.ipynb\">Geometri</a></li>\n",
    "    <li><a href=\"Vitenskapelig%20notasjon.ipynb\">Vitenskapelig notasjon</a></li>\n",
    "    <li><a href=\"Tetraeder.ipynb\">Tetraeder</a></li>\n",
    "    <li><a href=\"Bakekurs.ipynb\">Bakekurs</a></li>\n",
    "    <li ><a href=\"James%20Bond%20and%20Operation%20round().ipynb\">James Bond and Operation Round</a></li>\n",
    "    </ul>\n",
    "  </div>\n",
    "</nav>\n",
    "\n",
    "# Input og variable\n",
    "\n",
    "**Læringsmål:**\n",
    "\n",
    "* Lage programmer der brukeren gir inn tekst med input()\n",
    "\n",
    "* Enkel bruk av variable\n",
    "\n",
    "* Korrekt navngivning av variable\n",
    "\n",
    "**Starting Out with Python:**\n",
    "\n",
    "* Kap. 2.2\n",
    "\n",
    "* Kap. 2.5-2.6"
   ]
  },
  {
   "cell_type": "markdown",
   "metadata": {
    "heading_collapsed": true
   },
   "source": [
    "## **Tutorial del 1: funksjonen input()**"
   ]
  },
  {
   "cell_type": "markdown",
   "metadata": {
    "deletable": false,
    "editable": false,
    "hidden": true,
    "run_control": {
     "frozen": true
    }
   },
   "source": [
    "**Hvorfor trenger vi input?** I mange programmer er det viktig å kunne la brukeren gi input. I en nettbutikk må kunden kunne velge produkt, oppgi adresse det skal sendes til, betalingsmåte, osv.\n",
    "\n",
    "Input kan gis på mange måter, f.eks. via berøringsskjermer, mus, eller med stemme. Her skal du lære den måten som er lettest å programmere, nemlig input av tekst fra tastatur.\n",
    "Dette gjøres i Python ved hjelp av funksjonen `input()`. I likhet med `print()` er dette en funksjon i Pythons standardbibliotek.\n",
    "Kjør koden under, så ser du noen viktige forskjeller på print() og input()\n",
    "\n",
    "**print() og input()**"
   ]
  },
  {
   "cell_type": "code",
   "execution_count": null,
   "metadata": {
    "hidden": true
   },
   "outputs": [],
   "source": [
    "print(\"print() skriver tekst ut på skjerm og skifter linje\")\n",
    "input(\"input() venter at du skriver noe og slår Enter: \")\n",
    "print(\"print() kan ha\", \"mange tekster\", \"skilt med komma\")\n",
    "input(\"input() tillater kun en tekst! OK? \")"
   ]
  },
  {
   "cell_type": "markdown",
   "metadata": {
    "deletable": false,
    "editable": false,
    "hidden": true,
    "run_control": {
     "frozen": true
    }
   },
   "source": [
    "Den ene teksten `input()` kan inneholde, er den såkalte **ledeteksten** som skal forklare brukeren hva slags input som forventes.\n",
    "Ledeteksten bør være presis så brukeren vet hva slags opplysning det er spurt om.  \n",
    "F.eks. er \"Oppgi vekt i kg: \" en bedre ledetekst enn bare \"Oppgi vekt: \", som igjen er mye bedre enn \"Skriv et tall: \" eller \"Gi input: \".\n",
    "Blankt tegn bakerst i ledeteksten er ofte en fordel, ellers kommer brukerens input kloss i ledeteksten.  \n",
    "I det lille eksemplet over brukte vi ikke resultatet fra `input()`, men vanligvis ber vi brukeren om data fordi dataen trengs til noe.\n",
    "For noe litt mer nyttig, anta at vi ønsker å spørre brukeren om navn - og deretter benytte dette navnet i en påfølgende print-setning, så vi får en liten dialog mellom bruker og maskin:\n",
    "\n",
    "```\n",
    "Hei, hva heter du? Nina  \n",
    "Nina - det var et fint navn.  \n",
    ">>>\n",
    "```\n",
    "\n",
    "Her spør maskinen \"Hei, hva heter du?\", brukeren svarer \"Nina\" og maskinen skriver \"Nina - det var et fint navn.\"  \n",
    "Denne lille dialogen kan oppnås med følgende kodelinje:\n",
    "\n",
    "**Enkel dialog med bruker:**"
   ]
  },
  {
   "cell_type": "code",
   "execution_count": null,
   "metadata": {
    "hidden": true
   },
   "outputs": [],
   "source": [
    "print(input(\"Hei, hva heter du? \"), \"- det var et fint navn.\")"
   ]
  },
  {
   "cell_type": "markdown",
   "metadata": {
    "deletable": false,
    "editable": false,
    "hidden": true,
    "run_control": {
     "frozen": true
    }
   },
   "source": [
    "Denne koden funker fordi parenteser alltid utføres innenfra og ut. Print-setningen kan ikke kjøres før man vet hva som skal printes,\n",
    "Derfor må input-setningen kjøres først, den gir som resultat det navnet brukeren skriver inn (f.eks. Nina).  \n",
    "Dette navnet skrives deretter ut sammen med den påfølgende teksten \"- det var et fint navn.\")"
   ]
  },
  {
   "cell_type": "markdown",
   "metadata": {
    "deletable": false,
    "editable": false,
    "run_control": {
     "frozen": true
    }
   },
   "source": [
    "## a) Simpel bruk av input direkte i print()-setning"
   ]
  },
  {
   "cell_type": "markdown",
   "metadata": {
    "deletable": false,
    "editable": false,
    "run_control": {
     "frozen": true
    }
   },
   "source": [
    "Ta utgangspunkt i tutorial-koden nedenfor (og kjør den gjerne en gang for å se hvordan den virker; hvis du ikke forstår hvordan, les først tutorial):"
   ]
  },
  {
   "cell_type": "code",
   "execution_count": null,
   "metadata": {},
   "outputs": [],
   "source": [
    "print(input(\"Hei, hva heter du? \"), \"- det var et fint navn.\")"
   ]
  },
  {
   "cell_type": "markdown",
   "metadata": {
    "deletable": false,
    "editable": false,
    "run_control": {
     "frozen": true
    }
   },
   "source": [
    "Endre tekststrengene i denne kodelinjen så dialogen med brukeren i stedet blir som vist nedenfor. Maskinen skal alltid gjenta det navnet brukeren skrev, Nina er bare et eksempel.\n",
    "```\n",
    "Navn? Nina  \n",
    "Nina - kult navn!\n",
    "```\n",
    "Legg så til en ny, lignende kodelinje som spør om brukerens favorittfag. Ved ferdig program skal dialogen se ut som nedenfor.  \n",
    "Utskriften til programmet skal selvsagt tilpasse seg det brukeren skriver inn som navn og favorittfag.\n",
    "```\n",
    "Navn? Per\n",
    "Per - kult navn!  \n",
    "favorittfag? Ex.phil.  \n",
    "Ex.phil. - interessant!\n",
    "```\n"
   ]
  },
  {
   "cell_type": "markdown",
   "metadata": {
    "deletable": false,
    "editable": false,
    "run_control": {
     "frozen": true
    }
   },
   "source": [
    "## Tutorial del 2: variable - grunnleggende intro"
   ]
  },
  {
   "cell_type": "markdown",
   "metadata": {
    "deletable": false,
    "editable": false,
    "run_control": {
     "frozen": true
    }
   },
   "source": [
    "Hvorfor trenger vi variable? Poenget med variable er å **huske data underveis** i utførelsen av et program.\n",
    "\n",
    "Variable er derfor et sentralt konsept i programmering, ikke bare i Python men uansett hva slags språk man programmerer i.\n",
    "\n",
    "Uten variable støter vi fort på en rekke problemer fordi programmet vårt ikke kan huske noe, f.eks. at\n",
    "\n",
    "* vi må be brukeren gi inn opplysninger på nytt som brukeren har gitt tidligere\n",
    "* vi må regne ut på nytt data vi allerede har regnet ut tidligere\n",
    "\n",
    "Dette sløser tid og strøm og vil i mange tilfeller gjøre programmet fullstendig ubrukelig.\n",
    "\n",
    "I det lille eksempelprogrammet i tutorial del 1 klarte vi oss uten noen variabel, fordi navnet vi innhentet fra bruker kun ble benyttet én gang, og dette skjedde umiddelbart etter at det var tastet inn.\n",
    "\n",
    "  \n",
    "```python \n",
    "print(input(\"Hei, hva heter du? \"), \"- det var et fint navn.\") \n",
    "```\n",
    "\n",
    "  \n",
    "```\n",
    "Hei, hva heter du? Nina  \n",
    "Nina - det var et fint navn.  \n",
    ">>>>\n",
    "```\n",
    "\n",
    "Men ofte skal samme data brukes flere ganger, og etter at vi har gjort andre ting i mellomtiden. Da må data huskes i variable. Anta at vi ønsker en bare litt mer avansert dialog med brukeren:\n",
    "\n",
    " \n",
    "```\n",
    "Hei, hva heter du? Nina  \n",
    "Nina - det var et fint navn.  \n",
    "Lykke til med ITGK, Nina!  \n",
    ">>>>\n",
    "```\n",
    "\n",
    "Her vil vi bruke det innleste navnet i to påfølgende print-setninger. Hvis vi prøver samme triks som tidligere med å sette input-setning direkte i print-setning, får vi koden:\n",
    "\n",
    " \n",
    "```python\n",
    "print(input(\"Hei, hva heter du? \"), \"- det var et fint navn.\")\n",
    "print(\"Lykke til med ITGK,\", input(\"Hei, hva heter du?\")) \n",
    "```\n",
    "\n",
    "Kjøring viser hva som er dumt med denne koden, nemlig at spørsmålet \"Hei, hva heter du?\" kommer to ganger.\n",
    "\n",
    "\n",
    "```\n",
    "Hei, hva heter du? Nina  \n",
    "Nina - det var et fint navn.  \n",
    "Hei, hva heter du? Nina  \n",
    "Lykke til med ITGK, Nina\n",
    "```\n",
    "\n",
    "Ikke noe katastrofalt problem her, men tenk deg et program hvor samme opplysning skal brukes 100 ganger eller mer i en kritisk arbeidsoppgave som haster.\n",
    "\n",
    "Kan vi løse det på en bedre måte? JA - med en variabel for å huske navnet. Koden blir da"
   ]
  },
  {
   "cell_type": "code",
   "execution_count": null,
   "metadata": {},
   "outputs": [],
   "source": [
    "navn = input(\"Hei, hva heter du?\" )\n",
    "print(navn, \"- det var et fint navn.\")\n",
    "print(\"Lykke til med ITGK,\", navn)"
   ]
  },
  {
   "cell_type": "markdown",
   "metadata": {
    "deletable": false,
    "editable": false,
    "run_control": {
     "frozen": true
    }
   },
   "source": [
    "Dette programmet kan forklares som følger:\n",
    "\n",
    "* linje 1, til høyre for `=` : bruker `input()` for å spørre hva brukeren heter\n",
    "* linje 1, til venstre for `=`: oppretter en variabel som heter `navn`.\n",
    "* linje 1, tegnet `=`. Dette er **tilordningsoperatoren**. Betyr at verdien av uttrykket på høyre side, resultatet av `input()`, blir husket i variabelen kalt `navn`. Hvis brukeren skriver Nina, vil variabelen `navn` da inneholde strengen `'Nina'`\n",
    "* linje 2, variabelen `navn` brukes fremst i print-setningen. Merk at variabelnavnet **ikke** skal ha fnutter rundt seg. Med fnuttter ville vi i stedet ha skrevet \"navn - det var et fint navn\". Ordet navn som står bakerst i setningen \"det var et fint navn.\" er ikke variabelen, her er ordet navn bare del av en tekststreng.\n",
    "* linje 3, variabelen `navn` brukes bakerst i print-setningen. Igjen uten fnutter; det er ikke ordet navn vi ønsker å skrive, men den tekststrengen som variabelen `navn` inneholder (f.eks. Nina)\n",
    "\n",
    "Ved hjelp av variabelen som her ble kalt navn, unngår vi å stille samme spørsmål to ganger. Vi spør bare én gang, i starten av programmet, og husker da opplysningen brukeren gir oss ved å putte den inn i en variabel.\n",
    "\n",
    "Videre i programmet kan vi benytte denne variabelen hver gang vi trenger navnet - enten det som her var bare to ganger, eller om det hadde vært flere."
   ]
  },
  {
   "cell_type": "markdown",
   "metadata": {
    "deletable": false,
    "editable": false,
    "run_control": {
     "frozen": true
    }
   },
   "source": [
    "##  b) Huske input i variable"
   ]
  },
  {
   "cell_type": "markdown",
   "metadata": {
    "deletable": false,
    "editable": false,
    "run_control": {
     "frozen": true
    }
   },
   "source": [
    "Kjør koden under for å se hvordan den virker. Som du vil se, plager den brukeren med å gjenta begge spørsmålene to ganger.\n",
    "\n",
    "Forbedre koden ved å introdusere en variabel for navn og en annen variabel for favorittfag, slik at brukeren får hvert av spørsmålene bare en gang (dvs. spørres kun en gang om navn og kun en gang om favorittfag).\n",
    "\n",
    "Hvis du er i tvil om hvordan du skal angripe problemet, se lignende eksempel i tutorial like over."
   ]
  },
  {
   "cell_type": "code",
   "execution_count": null,
   "metadata": {},
   "outputs": [],
   "source": [
    "print(\"Hei,\", input(\"Navn? \"))\n",
    "print(input(\"Favorittfag? \"), \"- interessant!\")\n",
    "print(\"Ha en fin dag,\", input(\"Navn? \"))\n",
    "print(\"- og lykke til med\", input(\"Favorittfag? \"))"
   ]
  },
  {
   "cell_type": "markdown",
   "metadata": {
    "deletable": false,
    "editable": false,
    "run_control": {
     "frozen": true
    }
   },
   "source": [
    "Hvis du får til å bruke de to variablene som tenkt, skal kjøringen av det forbedrede programmet se slik ut (men også funke om brukeren skriver inn noe annet enn Ada på spørsmålet Navn? og noe annet enn ITGK på Favorittfag?)\n",
    "\n",
    "```\n",
    "Navn? Ada  \n",
    "Hei, Ada  \n",
    "Favorittfag? ITGK  \n",
    "ITGK - interessant!  \n",
    "Ha en fin dag, Ada  \n",
    "- og lykke til med ITGK\n",
    "```"
   ]
  },
  {
   "cell_type": "markdown",
   "metadata": {
    "deletable": false,
    "editable": false,
    "heading_collapsed": true,
    "run_control": {
     "frozen": true
    }
   },
   "source": [
    "## Tutorial del 3 - bruk av variable i beregninger"
   ]
  },
  {
   "cell_type": "markdown",
   "metadata": {
    "deletable": false,
    "editable": false,
    "hidden": true,
    "run_control": {
     "frozen": true
    }
   },
   "source": [
    "Variable brukes ikke bare i sammenheng med `input()`, men i alle mulige slags program. I matematiske beregninger skal resultatet av en beregning ofte brukes videre i nye beregninger. Da må disse tallene huskes i variable.  \n",
    "Koden under viser samme eksempel gjort på to måter, nemlig utregning av areal for en sirkel, samt volum for en sylinder som har denne sirkelen som grunnflate. Versjon 1 er gjort uten variable, mens Versjon 2 bruker variable.\n",
    "\n",
    "**Sirkel og sylinder**"
   ]
  },
  {
   "cell_type": "code",
   "execution_count": null,
   "metadata": {
    "hidden": true
   },
   "outputs": [],
   "source": [
    "import math\n",
    " \n",
    "# VERSJON 1, uten variable\n",
    "print(\"Areal av sirkelen:\", math.pi * 5.4**2)\n",
    "print(\"Volum av sylinderen:\", math.pi * 5.4**2 * 7.9)\n",
    " \n",
    "print()\n",
    " \n",
    "# VERSJON 2, med variable\n",
    "r = 5.4 # radius for en sirkel\n",
    "A_sirkel = math.pi * r**2\n",
    "print(\"Areal av sirkelen:\", A_sirkel)\n",
    "h = 7.9 # høyde sylinder hvor sirkelen er grunnflate\n",
    "V_syl = A_sirkel * h\n",
    "print(\"Volum av sylinderen:\", V_syl)"
   ]
  },
  {
   "cell_type": "markdown",
   "metadata": {
    "deletable": false,
    "editable": false,
    "hidden": true,
    "run_control": {
     "frozen": true
    }
   },
   "source": [
    "Hvis du kjører koden, vil du se at begge gir samme resultat. Hva er da forskjellen?\n",
    "\n",
    "* Versjon 2 er vesentlig lenger (6 kodelinjer, mot bare 2) fordi det brukes ekstra linjer på variable. Lenger kode er en mulig ulempe. MEN:\n",
    "* Formlene i Versjon 2 er lettere å forstå fordi det er intuitive navn som `r`, `h`, `A_sirkel` heller enn bare tall direkte.\n",
    "* Koden i V2 er mer fleksibel for å kjapt endre verdier. Hvis radius skal byttes fra 5.4 til 6.2 må dette tallet bare endres ett sted i V2, mens flere i V1.\n",
    "* Versjon 1 utfører **5 operasjoner** av type `*` og `**`, mens Versjon 2 bare utfører ***3***. Dette fordi Versjon 2 husker arealet i A_sirkel og deretter kan bruke dette, mens Versjon 1 må regne ut `math.pi * 5.4**2` på nytt.\n",
    "**Med færre multiplikasjoner vil VERSJON 2 spare både strøm og tid i forhold til VERSJON 1, dvs. koden utfører mindre jobb og går raskere selv om det er flere kodelinjer.**"
   ]
  },
  {
   "cell_type": "markdown",
   "metadata": {
    "deletable": false,
    "editable": false,
    "run_control": {
     "frozen": true
    }
   },
   "source": [
    "## c) Bruke variable i beregninger "
   ]
  },
  {
   "cell_type": "markdown",
   "metadata": {
    "deletable": false,
    "editable": false,
    "run_control": {
     "frozen": true
    }
   },
   "source": [
    "Nedenfor står et program hvor vi regner ut omkrets og areal for en sirkel etter de velkjente formlene O=2πr og A = πr2. Bortsett fra de innebygde konstantene `math.pi` og `math.tau` (=2π) bruker vi ingen variable. Dette gjør at når vi skal regne ut arealet av en sylinder hvor sirkelen er grunnflate, må vi gjøre om igjen flere beregninger som vi allerede har gjort tidligere.\n",
    "\n",
    "Arealet av sylinderen med høyde h vil være `mOmkrets_sirkel * h +  2 * Areal_sirkel`, hvor det første leddet er arealet av sylinderveggen og det siste leddet er topp- og bunnlokket.\n",
    "\n",
    "***Oppgave: Endre koden ved å tilordne og deretter bruke variable for radiusen, høyden, sirkelens omkrets og areal, slik at programmet unngår å gjøre på nytt beregninger som allerede er gjort før.***"
   ]
  },
  {
   "cell_type": "code",
   "execution_count": null,
   "metadata": {
    "ExecuteTime": {
     "end_time": "2019-07-01T10:54:16.358742Z",
     "start_time": "2019-07-01T10:54:16.351684Z"
    }
   },
   "outputs": [],
   "source": [
    "import math\n",
    "  \n",
    "print(\"Har en sirkel med radius\", 5.4, \"som er grunnflate i en sylinder med høyde\", 7.9)\n",
    "print(\"Omkrets av sirkelen:\", math.tau * 5.4)  #tau er det samme som 2 pi\n",
    "print(\"Areal av sirkelen:\", math.pi * 5.4**2)\n",
    "print(\"Areal av sylinderen:\", math.tau * 5.4 * 7.9 + 2 * math.pi * 5.4 ** 2)"
   ]
  },
  {
   "cell_type": "markdown",
   "metadata": {
    "deletable": false,
    "editable": false,
    "run_control": {
     "frozen": true
    }
   },
   "source": [
    "Resultatet av kjøring av koden skal være uendret, dvs utskrift skal bli som vist nedenfor (men hvis du vil, kan du gjerne i tillegg avrunde svarene til én desimal).\n",
    "\n",
    "  \n",
    "```\n",
    "Har en sirkel med radius 5.4 som er grunnflate i en sylinder med høyde 7.9\n",
    "Omkrets av sirkelen: 33.929200658769766\n",
    "Areal av sirkelen: 91.60884177867838\n",
    "Areal av sylinderen: 451.25836876163794\n",
    "```"
   ]
  },
  {
   "cell_type": "markdown",
   "metadata": {
    "deletable": false,
    "editable": false,
    "run_control": {
     "frozen": true
    }
   },
   "source": [
    "## Tutorial del 4: Navngiving av variable"
   ]
  },
  {
   "cell_type": "markdown",
   "metadata": {
    "deletable": false,
    "editable": false,
    "run_control": {
     "frozen": true
    }
   },
   "source": [
    "En variabel er et navn som representerer en verdi som lagres i datamaskinens minne. Den vanligste måten å opprette en variabel på er ved en tilordningssetning:\n",
    "\n",
    "`variable = expression`\n",
    "\n",
    "I dette tilfellet er variable navnet til variabelen, mens expression er verdien. Noen regler for slike tilordningssetninger:\n",
    "\n",
    "* variabelen som opprettes skal alltid stå på venstre side av uttrykket, og venstre side skal kun inneholde denne variabelen, ikke noe annet\n",
    "* høyde side kan alt fra en enkelt verdi (f.eks. et tall) eller en enkelt variabel, til mer sammensatte uttrykk som må beregnes. Hvis høyre side inneholder variable, må dette være variable som allerede er opprettet tidligere i koden.\n",
    "* variabelnavnet må tilfredsstille følgende regler:\n",
    " * ord som er reserverte ord i Python, f.eks. `if`, `def`, eller som er navn på standardfunksjoner som `print`, `min`, `max`, ... bør unngås som varibelnavn\n",
    " * variabelnavn må begynne med en bokstav eller tegnet _ (understrek)\n",
    " * kan ellers inneholde bokstaver, tall og understrek, dvs. kan f.eks. ikke inneholde blanke tegn.\n",
    "* Python skiller mellom små og store bokstaver, så `Areal` og `areal` vil være to ulike variable.\n",
    "\n",
    "Det anbefales å lage variabelnavn som er intuitivt forståelige, f.eks. er `areal` et bedre navn enn `x` på en variabel som inneholder et areal. Sammensatte variabelnavn skrives typisk som pukkelord (eng.: camelCase) eller med understrek for å vise hvor ett ord slutter og det neste begynner, f.eks. `startTime`, `pricePerLiter` eller `start_time`, `price_per_liter`, siden direkte sammensetning uten noe som helst skille vil gi lange variabelnavn som blir vanskelige å lese.\n",
    "\n",
    "Kodeblokka under viser eksempler på variable som funker og ikke funker:"
   ]
  },
  {
   "cell_type": "code",
   "execution_count": null,
   "metadata": {},
   "outputs": [],
   "source": [
    "# Eksempel på tilordningssetninger som funker\n",
    "pokemon_name = \"Tyranitar\"\n",
    "MaxCP = 3670\n",
    "antall = 3\n",
    "antall = antall + 1      # høyre side regnes ut som 3+1, så 4 blir ny verdi i variabelen antall\n",
    "resists_fighting = False\n",
    "level42 = \"to be done\"   # tall er OK i variabelnavn unntatt helt fremst\n",
    "  \n",
    "# Eksempel på tilordninger som IKKE funker\n",
    "1 = antall              # variabelen må stå på venstre side\n",
    "antall + 1 = antall     # og v.s. kan KUN inneholde et variabelnavn, ikke et større uttrykk\n",
    "10kamp = \"gøy\"          # variabel kan ikke begynne med tall, kun bokstav eller _\n",
    "antall = 3              # denne er OK, men se neste linje\n",
    "antall = Antall + 1     # Python skiller mellom store og små bokstaver, Antall vil være en annen\n",
    "                        # variabel og gir NameError her fordi den ikke er opprettet i en tidligere setning\n",
    "happy hour = 20         # navn kan ikke inneholde mellomrom, burde vært happy_hour eller happyHour\n",
    "alkohol% = 4.5          # % kan ikke brukes i variabelnavn (betyr modulo). Samme gjelder andre spesialtegn,\n",
    "                        # hold deg til vanlige bokstaver og tall"
   ]
  },
  {
   "cell_type": "markdown",
   "metadata": {
    "deletable": false,
    "editable": false,
    "run_control": {
     "frozen": true
    }
   },
   "source": [
    "## d) Variabelnavn"
   ]
  },
  {
   "cell_type": "markdown",
   "metadata": {
    "deletable": false,
    "editable": false,
    "run_control": {
     "frozen": true
    }
   },
   "source": [
    "Prøv å kjør koden under. Som du vil se, funker den ikke pga. diverse feil med variabelnavn og tilordningssetninger. Fiks feilene så programmet kjører som det skal."
   ]
  },
  {
   "cell_type": "code",
   "execution_count": null,
   "metadata": {},
   "outputs": [],
   "source": [
    "4navn = \"Per\"\n",
    "ideal alder = 42\n",
    "37 = kundensAlder\n",
    "differanse = ideal alder - kundensAlder\n",
    "print(4navn, \"er\", Differanse, \"år unna idealalderen\")"
   ]
  },
  {
   "cell_type": "markdown",
   "metadata": {
    "deletable": false,
    "editable": false,
    "run_control": {
     "frozen": true
    }
   },
   "source": [
    "## e) Variabel-program"
   ]
  },
  {
   "cell_type": "markdown",
   "metadata": {
    "deletable": false,
    "editable": false,
    "run_control": {
     "frozen": true
    }
   },
   "source": [
    "Lag et program i kodeblokka under som først lagrer navnet ditt i en variabel og alderen din i en annen variabel, for så å printe det ut med `print()`-funksjonen. Her trenger du altså ikke å bruke `input()`-funksjonen!\n",
    "\n",
    "Eksempel på kjøring:\n",
    "```\n",
    "Jeg heter Bob Bernt, og er 46 år.\n",
    "```\n",
    "\n",
    "***Skriv koden din i blokka under.***"
   ]
  },
  {
   "cell_type": "code",
   "execution_count": null,
   "metadata": {},
   "outputs": [],
   "source": []
  }
 ],
 "metadata": {
  "kernelspec": {
   "display_name": "Python 3",
   "language": "python",
   "name": "python3"
  },
  "language_info": {
   "codemirror_mode": {
    "name": "ipython",
    "version": 3
   },
   "file_extension": ".py",
   "mimetype": "text/x-python",
   "name": "python",
   "nbconvert_exporter": "python",
   "pygments_lexer": "ipython3",
   "version": "3.7.3"
  },
  "toc": {
   "base_numbering": 1,
   "nav_menu": {},
   "number_sections": false,
   "sideBar": true,
   "skip_h1_title": false,
   "title_cell": "Table of Contents",
   "title_sidebar": "Contents",
   "toc_cell": false,
   "toc_position": {},
   "toc_section_display": true,
   "toc_window_display": false
  }
 },
 "nbformat": 4,
 "nbformat_minor": 2
}

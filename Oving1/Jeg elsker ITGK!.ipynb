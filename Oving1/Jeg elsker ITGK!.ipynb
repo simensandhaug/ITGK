{
 "cells": [
  {
   "cell_type": "markdown",
   "metadata": {
    "deletable": false,
    "editable": false,
    "run_control": {
     "frozen": true
    },
    "solution": "hidden"
   },
   "source": [
    "<nav class=\"navbar navbar-default\">\n",
    "  <div class=\"container-fluid\">\n",
    "    <div class=\"navbar-header\">\n",
    "      <a class=\"navbar-brand\" href=\"_Oving1.ipynb\">Øving 1</a>\n",
    "    </div>\n",
    "    <ul class=\"nav navbar-nav\">\n",
    "        <li><a href=\"Intro%20til%20jupyter.ipynb\">Intro til Jupyter</a></li>\n",
    "      <li class=\"active\"><a href=\"Jeg%20elsker%20ITGK!.ipynb\">Jeg elsker ITGK!</a></li>\n",
    "    <li ><a href=\"Kalkulasjoner.ipynb\">Kalkulasjoner</a></li>\n",
    "    <li><a href=\"Input%20og%20variable.ipynb\">Input og variable</a></li>\n",
    "    <li><a href=\"Tallkonvertering.ipynb\">Tallkonvertering</a></li>\n",
    "    <li><a href=\"Peppes%20Pizza.ipynb\">Peppes Pizza</a></li>\n",
    "    <li><a href=\"Geometri.ipynb\">Geometri</a></li>\n",
    "    <li><a href=\"Vitenskapelig%20notasjon.ipynb\">Vitenskapelig notasjon</a></li>\n",
    "    <li><a href=\"Tetraeder.ipynb\">Tetraeder</a></li>\n",
    "    <li><a href=\"Bakekurs.ipynb\">Bakekurs</a></li>\n",
    "    <li ><a href=\"James%20Bond%20and%20Operation%20round().ipynb\">James Bond and Operation Round</a></li>\n",
    "    </ul>\n",
    "  </div>\n",
    "</nav>\n",
    "\n",
    "# Jeg elsker ITGK!\n",
    "\n",
    "**Læringsmål:**\n",
    "\n",
    "* Printe tekst og tall til konsoll\n",
    "\n",
    "* Skrive et enkelt program\n",
    "\n",
    "**Starting Out with Python:**\n",
    "\n",
    "* Kap. 1.5\n",
    "\n",
    "* Kap. 2.2-2.4"
   ]
  },
  {
   "cell_type": "markdown",
   "metadata": {
    "deletable": false,
    "editable": false,
    "heading_collapsed": true,
    "run_control": {
     "frozen": true
    }
   },
   "source": [
    "### print() - tutorial del 1:\n",
    "Les gjerne denne før du gjør de neste oppgavene, særlig hvis du ikke kan programmere fra før."
   ]
  },
  {
   "cell_type": "markdown",
   "metadata": {
    "deletable": false,
    "editable": false,
    "hidden": true,
    "run_control": {
     "frozen": true
    }
   },
   "source": [
    "Programmer som skal brukes av mennesker, må ofte vise informasjon på skjermen. En enkel måte for dette i Python er funksjonen print().\n",
    "\n",
    "Nedenstående kode gir en mest mulig selvforklarende intro til print-setningen.\n",
    "\n",
    "**Trykk control + enter med cellen under aktiv for å kjøre koden, prøv eventuelt å endre på noe og se hva som skjer!**"
   ]
  },
  {
   "cell_type": "code",
   "execution_count": null,
   "metadata": {
    "ExecuteTime": {
     "end_time": "2019-06-25T13:22:53.510622Z",
     "start_time": "2019-06-25T13:22:53.493007Z"
    },
    "hidden": true,
    "scrolled": true
   },
   "outputs": [],
   "source": [
    "print('Det som skal ut på skjermen, settes inni parentesen bak print.')\n",
    "print('Tekst må omsluttes med fnutter (apostrof)')\n",
    "print(\"eller med dobbelfnutter (hermetegn).\")\n",
    "print(\"Tall trenger ikke fnutter rundt seg:\")\n",
    "print(42)\n",
    "print('En blank linje kan printes med tom parentes:')\n",
    "print()\n",
    "print('Du kan printe flere ting', 'med komma mellom:', 5, 6)\n",
    "print('Desimaltall må skrives med punktum i Python:', 3.14)\n",
    "print('Hvis du bruker komma, tolkes det som to adskilte tall:', 3,14)\n",
    "print('Komma inni en tekst kommer ut på skjermen: ,,,,,', 'komma', 'mellom', 'tekster gjør ikke det.')"
   ]
  },
  {
   "cell_type": "markdown",
   "metadata": {
    "deletable": false,
    "editable": false,
    "hidden": true
   },
   "source": [
    "Som forklaringen sier, er det **to alternative tegn** som kan brukes for å omslutte tekststrenger i Python:\n",
    "\n",
    "* Apostrof. På norsk PC-tastatur er den mellom Æ og Enter. På Mac på tasten til venstre for tallet 1.\n",
    "* Hermetegn - både på PC og Mac på samme tast som tallet 2.\n",
    "\n",
    "Om du bruker apostrof eller hermetegn, er et spørsmål om smak og behag - bare du er konsekvent og bruker samme tegn foran og bak tekststrengen. I visse situasjoner vil ett av alternativene være å foretrekke, som forklart i del 2 av tutorialen.\n",
    "\n",
    "Hvis du ved et uhell får feil tegn, som bøyd apostrof eller bøyd hermetegn i stedet for rett (nøytral) apostrof og rett (nøytralt) hermetegn som det er snakk om her, vil koden din ikke funke. Hvis du f.eks. skriver Python-kode i Word, kan Word automatisk omforme hermetegn til bøyde hermetegn (som ser forskjellig ut avhengig av om det står før eller etter teksten som hermes). Dette er en av mange gode grunner til å ikke skrive Python-kode i Word - bruk en dedikert kode-editor som Jupyter, Spyder eller PyCharm."
   ]
  },
  {
   "cell_type": "markdown",
   "metadata": {
    "deletable": false,
    "editable": false,
    "run_control": {
     "frozen": true
    },
    "solution": "hidden"
   },
   "source": [
    "### a)"
   ]
  },
  {
   "cell_type": "markdown",
   "metadata": {
    "deletable": false,
    "editable": false,
    "run_control": {
     "frozen": true
    }
   },
   "source": [
    "**Lag et program som gir følgende utskrift til skjermen:**\n",
    "\n",
    "```\n",
    "Jeg elsker ITGK!\n",
    "```\n",
    "\n",
    "***Skriv koden din i boksen under.***"
   ]
  },
  {
   "cell_type": "code",
   "execution_count": null,
   "metadata": {},
   "outputs": [],
   "source": []
  },
  {
   "cell_type": "markdown",
   "metadata": {
    "deletable": false,
    "editable": false,
    "run_control": {
     "frozen": true
    }
   },
   "source": [
    "### b)\n"
   ]
  },
  {
   "cell_type": "markdown",
   "metadata": {
    "deletable": false,
    "editable": false,
    "run_control": {
     "frozen": true
    }
   },
   "source": [
    "Lag et program som bruker fire print-setninger for å skrive informasjonen nedenfor til skjermen (linje 2 skal være blank). Tallene skal skrives ut som tall, **ikke** som en del av en tekststreng omgitt av fnutter."
   ]
  },
  {
   "cell_type": "markdown",
   "metadata": {
    "ExecuteTime": {
     "end_time": "2019-06-25T13:03:36.211485Z",
     "start_time": "2019-06-25T13:03:36.201649Z"
    },
    "deletable": false,
    "editable": false,
    "run_control": {
     "frozen": true
    }
   },
   "source": [
    "```python\n",
    "Norge\n",
    " \n",
    " \n",
    "Areal (kv.km): 385180\n",
    " \n",
    "Folketall (mill.): 5.3\n",
    "```\n",
    "\n",
    "***Skriv koden din i boksen under.***"
   ]
  },
  {
   "cell_type": "code",
   "execution_count": null,
   "metadata": {},
   "outputs": [],
   "source": []
  },
  {
   "cell_type": "markdown",
   "metadata": {
    "deletable": false,
    "editable": false,
    "heading_collapsed": true,
    "run_control": {
     "frozen": true
    },
    "solution": "hidden"
   },
   "source": [
    "### print() - tutorial del 2:\n",
    "Nyttig info om fnutter i streng før oppgave c og d."
   ]
  },
  {
   "cell_type": "markdown",
   "metadata": {
    "deletable": false,
    "editable": false,
    "hidden": true,
    "run_control": {
     "frozen": true
    }
   },
   "source": [
    "Koden under viser hvorfor Python har flere alternativer for fnutter rundt tekststrenger heller enn å standardisere på bare ett fast tegn for dette formålet. **Ta gjerne å endre på koden for å se hva som skjer!**"
   ]
  },
  {
   "cell_type": "code",
   "execution_count": null,
   "metadata": {
    "ExecuteTime": {
     "end_time": "2019-06-25T13:37:55.517387Z",
     "start_time": "2019-06-25T13:37:55.490047Z"
    },
    "hidden": true
   },
   "outputs": [],
   "source": [
    "print('Hvorfor tilbys både enkle', \"og doble fnutter?\")\n",
    "print('Jo, hvis det er doble \"fnutter\" i teksten, funker kun enkle rundt,')\n",
    "print(\"og med enkle fnutter i teksten er'e bare doble som funker rundt.\")\n",
    "print(\"Med samme fnutt både rundt og inni, tror Python teksten slutter midt i.\")\n",
    "print(\"Skal du ha begge typer fnutter i teksten? Da må du ha triple fnutter rundt:\")\n",
    "print('''Er'u gær'n? spurte \"Arne\" og lo sykt.''')\n",
    "print(\"\"\"Trippel apostrof ' og trippel hermetegn \" funker begge deler\"\"\")\n",
    "print(\"\"\"Triple fnutter kan også brukes\n",
    "for tekststrenger\n",
    "som skal gå over flere linjer.\"\"\")"
   ]
  },
  {
   "cell_type": "markdown",
   "metadata": {
    "deletable": false,
    "editable": false,
    "run_control": {
     "frozen": true
    }
   },
   "source": [
    "### c)"
   ]
  },
  {
   "cell_type": "markdown",
   "metadata": {
    "deletable": false,
    "editable": false,
    "run_control": {
     "frozen": true
    }
   },
   "source": [
    "**Lag et program som skriver ut på skjermen teksten:** \n",
    "```\n",
    "\"Jeg elsker ITGK\" ropte studenten da 1c funket.\n",
    "```\n",
    "\n",
    "Hermetegnene rundt teksten skal være med i det som kommer ut på skjermen. \n",
    "\n",
    "***Skriv koden i boksen under.***"
   ]
  },
  {
   "cell_type": "code",
   "execution_count": null,
   "metadata": {},
   "outputs": [],
   "source": []
  },
  {
   "cell_type": "markdown",
   "metadata": {
    "deletable": false,
    "editable": false,
    "run_control": {
     "frozen": true
    }
   },
   "source": [
    "### d)\n"
   ]
  },
  {
   "cell_type": "markdown",
   "metadata": {
    "deletable": false,
    "editable": false,
    "run_control": {
     "frozen": true
    }
   },
   "source": [
    "Lag et program som skriver ut på skjermen teksten vist under.\n",
    "\n",
    "Hint: For å slippe å skrive så mye, kopier teksten inn i boksen under, så trenger du bare selv å skrive print, parenteser og passende fnutter rundt teksten.\n",
    "\n",
    "**Tekst til oppgave d:**"
   ]
  },
  {
   "cell_type": "markdown",
   "metadata": {
    "deletable": false,
    "editable": false,
    "run_control": {
     "frozen": true
    }
   },
   "source": [
    "```\n",
    "Noen barn sto og hang ved lekeplassen.\n",
    "Diskusjonstemaet deres var noe uventet.\n",
    "\n",
    "- Hvorfor heter'e \"Python\"?\n",
    "- Var'e slanger som laget det? - Nei, Guido van Rossum.\n",
    "- Likte slanger kanskje da? - Nei, digga \"Monty Python\".\n",
    "- Hva er det? Et fjell?\n",
    "- Nei, engelsk komigruppe. Begynte i '69\n",
    "- Wow! Var'e fremdeles dinosaurer da?\n",
    "```\n",
    "***Skriv koden i boksen under.***"
   ]
  },
  {
   "cell_type": "code",
   "execution_count": null,
   "metadata": {},
   "outputs": [],
   "source": []
  },
  {
   "cell_type": "markdown",
   "metadata": {
    "deletable": false,
    "editable": false,
    "heading_collapsed": true,
    "run_control": {
     "frozen": true
    }
   },
   "source": [
    "### Kommentarer i Python - tutorial del 3:\n",
    "Nyttig info før oppgave e"
   ]
  },
  {
   "cell_type": "markdown",
   "metadata": {
    "deletable": false,
    "editable": false,
    "hidden": true,
    "run_control": {
     "frozen": true
    }
   },
   "source": [
    "Kommentarer er en annen nyttig ting når vi skriver kode. Det brukes mest for din egen del, i tillegg til andre som skal tyde koden, ettersom det gjør koden mer oversiktlig. Det er blant annet veldig nyttig viss du eller andre skal se gjennom kode i etterkant. Kommentarer ignoreres av programmet når koden kjører, så hva du skriver i en kommentar påvirker ikke koden. Kommentarer lages ved å sette en hashtag(#) foran det du ønsker å skrive. Prøver du å kjøre koden under vil du få en feil. **Prøv å rette opp koden!**"
   ]
  },
  {
   "cell_type": "code",
   "execution_count": null,
   "metadata": {
    "ExecuteTime": {
     "end_time": "2019-06-25T13:30:57.214061Z",
     "start_time": "2019-06-25T13:30:57.200831Z"
    },
    "hidden": true
   },
   "outputs": [],
   "source": [
    "# Dette er en kommentar!\n",
    "Dette er ikke en kommentar. Mangler #."
   ]
  },
  {
   "cell_type": "markdown",
   "metadata": {
    "deletable": false,
    "editable": false,
    "run_control": {
     "frozen": true
    }
   },
   "source": [
    "### e)"
   ]
  },
  {
   "cell_type": "markdown",
   "metadata": {
    "deletable": false,
    "editable": false,
    "run_control": {
     "frozen": true
    }
   },
   "source": [
    "Legg til to kommentarer i koden din fra b) og c) hvor du forklarer hva som ble gjort i hver av oppgavene.  Legg også til kommentaren `print('Hei\")` i en av deloppgavene.\n",
    "\n",
    "Merk at dersom du hadde skrevet print('Hei\") i koden ville ikke koden kjørt. Dette skyldes at det først blir brukt en enkel fnutt og deretter en dobbel fnutt. Så lenge dette er skrevet i en kommentar slik det ble gjort i e) vil det ikke påvirke koden og alt går fint. "
   ]
  },
  {
   "cell_type": "markdown",
   "metadata": {
    "deletable": false,
    "editable": false,
    "run_control": {
     "frozen": true
    }
   },
   "source": [
    "### f)"
   ]
  },
  {
   "cell_type": "markdown",
   "metadata": {
    "deletable": false,
    "editable": false,
    "run_control": {
     "frozen": true
    }
   },
   "source": [
    "Koden i kodeblokken under kjører ikke pga. syntaksfeil i alle print-funksjonene. Din oppgave er å rette opp i feilene slik at koden kjører."
   ]
  },
  {
   "cell_type": "code",
   "execution_count": null,
   "metadata": {},
   "outputs": [],
   "source": [
    "print(\"Heihei, jeg vil visst ikke kompilere jeg :(')\n",
    "print(\"Halla, så \"bra\" du ser ut i dag\")\n",
    "print(Hei på deg)\n",
    "print \"Er ikke dette gøy?\")"
   ]
  }
 ],
 "metadata": {
  "kernelspec": {
   "display_name": "Python 3",
   "language": "python",
   "name": "python3"
  },
  "language_info": {
   "codemirror_mode": {
    "name": "ipython",
    "version": 3
   },
   "file_extension": ".py",
   "mimetype": "text/x-python",
   "name": "python",
   "nbconvert_exporter": "python",
   "pygments_lexer": "ipython3",
   "version": "3.7.3"
  },
  "toc": {
   "base_numbering": 1,
   "nav_menu": {},
   "number_sections": false,
   "sideBar": true,
   "skip_h1_title": false,
   "title_cell": "Table of Contents",
   "title_sidebar": "Contents",
   "toc_cell": false,
   "toc_position": {},
   "toc_section_display": true,
   "toc_window_display": false
  }
 },
 "nbformat": 4,
 "nbformat_minor": 2
}
